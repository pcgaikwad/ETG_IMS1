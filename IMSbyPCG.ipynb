{
  "nbformat": 4,
  "nbformat_minor": 0,
  "metadata": {
    "colab": {
      "name": "IMSbyPCG.ipynb",
      "provenance": [],
      "collapsed_sections": []
    },
    "kernelspec": {
      "display_name": "Python 3",
      "language": "python",
      "name": "python3"
    },
    "language_info": {
      "codemirror_mode": {
        "name": "ipython",
        "version": 3
      },
      "file_extension": ".py",
      "mimetype": "text/x-python",
      "name": "python",
      "nbconvert_exporter": "python",
      "pygments_lexer": "ipython3",
      "version": "3.8.8"
    }
  },
  "cells": [
    {
      "cell_type": "code",
      "metadata": {
        "id": "mJqsbCBAMD0l"
      },
      "source": [
        "products={10101:{\"product_name\":\"Chocolate\",\"Type_of_product\":\"Sweets\",\"Price\":200,\"quantity\":100,\"Exp_date\":\"May_2022\",\"Net_weight\":'200g',\"discount\":10},\n",
        "        10102:{\"product_name\":\"Frooty\",\"Type_of_product\":\"drink\",\"Price\":35,\"quantity\":43,\"Exp_date\":\"Jun_2022\",\"Net_weight\":'600g',\"discount\":1}}"
      ],
      "execution_count": 1,
      "outputs": []
    },
    {
      "cell_type": "code",
      "metadata": {
        "colab": {
          "base_uri": "https://localhost:8080/"
        },
        "id": "SqRY_kV2cSKL",
        "outputId": "18ced43f-5018-4f44-8bc6-446b6a412d6f"
      },
      "source": [
        "products"
      ],
      "execution_count": 3,
      "outputs": [
        {
          "output_type": "execute_result",
          "data": {
            "text/plain": [
              "{10101: {'Exp_date': 'May_2022',\n",
              "  'Net_weight': '200g',\n",
              "  'Price': 200,\n",
              "  'Type_of_product': 'Sweets',\n",
              "  'discount': 10,\n",
              "  'product_name': 'Chocolate',\n",
              "  'quantity': 100},\n",
              " 10102: {'Exp_date': 'Jun_2022',\n",
              "  'Net_weight': '600g',\n",
              "  'Price': 35,\n",
              "  'Type_of_product': 'drink',\n",
              "  'discount': 1,\n",
              "  'product_name': 'Frooty',\n",
              "  'quantity': 43}}"
            ]
          },
          "metadata": {},
          "execution_count": 3
        }
      ]
    },
    {
      "cell_type": "code",
      "metadata": {
        "id": "ldn6WCw8L4yg"
      },
      "source": [
        "import json\n",
        "import time\n",
        "import random"
      ],
      "execution_count": 4,
      "outputs": []
    },
    {
      "cell_type": "code",
      "metadata": {
        "id": "FSkSyTHYMEgn"
      },
      "source": [
        " js=json.dumps(products)"
      ],
      "execution_count": 5,
      "outputs": []
    },
    {
      "cell_type": "code",
      "metadata": {
        "colab": {
          "base_uri": "https://localhost:8080/",
          "height": 52
        },
        "id": "fk7yz11eMJ1I",
        "outputId": "ea7257d2-6eeb-4b98-a626-fe0f7cf9e110"
      },
      "source": [
        "js"
      ],
      "execution_count": 6,
      "outputs": [
        {
          "output_type": "execute_result",
          "data": {
            "application/vnd.google.colaboratory.intrinsic+json": {
              "type": "string"
            },
            "text/plain": [
              "'{\"10101\": {\"product_name\": \"Chocolate\", \"Type_of_product\": \"Sweets\", \"Price\": 200, \"quantity\": 100, \"Exp_date\": \"May_2022\", \"Net_weight\": \"200g\", \"discount\": 10}, \"10102\": {\"product_name\": \"Frooty\", \"Type_of_product\": \"drink\", \"Price\": 35, \"quantity\": 43, \"Exp_date\": \"Jun_2022\", \"Net_weight\": \"600g\", \"discount\": 1}}'"
            ]
          },
          "metadata": {},
          "execution_count": 6
        }
      ]
    },
    {
      "cell_type": "code",
      "metadata": {
        "id": "a6SarJANMK42"
      },
      "source": [
        "fd=open(\"record.json\",'w')\n",
        "txt=fd.write(js)\n",
        "fd.close()"
      ],
      "execution_count": 7,
      "outputs": []
    },
    {
      "cell_type": "code",
      "metadata": {
        "id": "5MBBYfkbMOyR"
      },
      "source": [
        "fd=open(\"record.json\",'r')\n",
        "txt=fd.read()\n",
        "fd.close()\n",
        "\n",
        "products= json.loads(txt)"
      ],
      "execution_count": 8,
      "outputs": []
    },
    {
      "cell_type": "markdown",
      "metadata": {
        "id": "q7QU3LtKMrlI"
      },
      "source": [
        "product list"
      ]
    },
    {
      "cell_type": "code",
      "metadata": {
        "colab": {
          "base_uri": "https://localhost:8080/"
        },
        "id": "WvGnGey7MR5n",
        "outputId": "71682c38-b57e-45d7-8f18-da82e8644f70"
      },
      "source": [
        "total=0\n",
        "items=[]\n",
        "pid=[]\n",
        "print(\"PRODUCT ID  \\t\",\"\\t\\tPRODUCT NAME\")\n",
        "for i in products:\n",
        "    items.append(products[i][\"product_name\"])\n",
        "    total=total+1\n",
        "    pid.append(i)\n",
        "    print(\" \",i,\"\\t\\t\\t\",products[i][\"product_name\"])\n",
        "print(\"\\nTotal Items you can purchases are : \",total)\n",
        "\n",
        "items.sort()"
      ],
      "execution_count": 9,
      "outputs": [
        {
          "output_type": "stream",
          "name": "stdout",
          "text": [
            "PRODUCT ID  \t \t\tPRODUCT NAME\n",
            "  10101 \t\t\t Chocolate\n",
            "  10102 \t\t\t Frooty\n",
            "\n",
            "Total Items you can purchases are :  2\n"
          ]
        }
      ]
    },
    {
      "cell_type": "markdown",
      "metadata": {
        "id": "HChRPLdltyS3"
      },
      "source": [
        "Purchasing"
      ]
    },
    {
      "cell_type": "code",
      "metadata": {
        "colab": {
          "base_uri": "https://localhost:8080/"
        },
        "id": "nh0uc_DTMuRp",
        "outputId": "923c7844-8378-4211-b45b-9a8146e2fb89"
      },
      "source": [
        "prod=[]\n",
        "num=[]\n",
        "lon=len(items)\n",
        "NAME=str(input(\"Enter your Name : \"))\n",
        "MOBILE=str(input(\"Enter your Mobile No : \"))\n",
        "for e in range(1,2):\n",
        "      print()\n",
        "      print(\" \\t\\t !!! NOTE:   TYPE  '0' FOR OVER  !!! \")\n",
        "      print(\" \\t\\t Enter Items which you want with Quantity  \")\n",
        "      print()\n",
        "      for j in range(lon + 10):\n",
        "          buyId=str(input(\"Enter the id of product which u want to buy or press '0' to finsish shopping: \"))\n",
        "          \n",
        "          if buyId!=\"0\":\n",
        "               prod.append(buyId)\n",
        "               print(\"---------------********Details**********-----------------\")\n",
        "               print(\"Name of Product is: \",products[buyId][\"product_name\"])\n",
        "               print(\"Price of each Product is: \",products[buyId][\"Price\"])\n",
        "               buyQuant=int(input(\"Enter the quantity \"))\n",
        "               print(\"----------------------------------------------------------\")\n",
        "              \n",
        "               if (int(products[buyId]['quantity'])>buyQuant):\n",
        "                   num.append(buyQuant)\n",
        "                   products[buyId]['quantity']=products[buyId]['quantity']-buyQuant\n",
        "               else:\n",
        "                  print(\"We don't have sufficient quantity in our inventory....\")\n",
        "                  print(\"----------------------------------------------------------\")\n",
        "\n",
        "          else:\n",
        "               break\n"
      ],
      "execution_count": 10,
      "outputs": [
        {
          "name": "stdout",
          "output_type": "stream",
          "text": [
            "Enter your Name : Ashish\n",
            "Enter your Mobile No : 666666\n",
            "\n",
            " \t\t !!! NOTE:   TYPE  '0' FOR OVER  !!! \n",
            " \t\t Enter Items which you want with Quantity  \n",
            "\n",
            "Enter the id of product which u want to buy or press '0' to finsish shopping: 10101\n",
            "---------------********Details**********-----------------\n",
            "Name of Product is:  Chocolate\n",
            "Price of each Product is:  200\n",
            "Enter the quantity 25\n",
            "----------------------------------------------------------\n",
            "Enter the id of product which u want to buy or press '0' to finsish shopping: 0\n"
          ]
        }
      ]
    },
    {
      "cell_type": "markdown",
      "metadata": {
        "id": "do1u71uwNLOT"
      },
      "source": [
        "**Biliing**"
      ]
    },
    {
      "cell_type": "code",
      "metadata": {
        "id": "A2HSmH-OL600"
      },
      "source": [
        "Time=time.ctime()\n",
        "Time=list(Time.split(' '))\n",
        "Time.pop(2)\n",
        "DATE=Time[1]+\" \"+Time[2]+\" \"+Time[4]\n",
        "TIME=Time[3]\n",
        "BILL= random.randint(10000,20000)\n",
        "BILL_NO=round(BILL*7.156)\n"
      ],
      "execution_count": 11,
      "outputs": []
    },
    {
      "cell_type": "code",
      "metadata": {
        "id": "X32oBKQxNOIs"
      },
      "source": [
        "Id=[]\n",
        "discount=[]\n",
        "Price=[]\n",
        "pTotal=[]\n",
        "Type_of_product=[]\n",
        "Actual_Total=[]\n",
        "plistId=[]\n",
        "\n",
        "\n",
        "\n",
        "length=len(prod)\n",
        "for i in range(length):\n",
        "    S_NO=i+1\n",
        "    Item=prod[i]\n",
        "    quantity=num[i]\n",
        "    for j in products:\n",
        "        if j == Item: \n",
        "             Id.append(j)\n",
        "             Type_of_product.append(products[j][\"Type_of_product\"])\n",
        "             Price.append(products[j][\"Price\"])\n",
        "             discount.append(products[j][\"discount\"])\n",
        "             pTotal.append(quantity * (Price[i]-discount[i]))\n",
        "             Actual_Total.append(products[j][\"Price\"]*num[i])"
      ],
      "execution_count": 12,
      "outputs": []
    },
    {
      "cell_type": "code",
      "metadata": {
        "id": "6gpp7OlnRtRY"
      },
      "source": [
        "TP=0      #TOTAL PRICE\n",
        "TD=0      # TOTAL DISCOUNT ( BASED ON ONE QUANTITY  )\n",
        "TM=0      # TOTAL MRP \n",
        "TQ=0      # TOTAL QUANTITY\n",
        "TI=0      # TOTAL ITEMS\n",
        "TP=sum(pTotal)\n",
        "TD=sum(discount)\n",
        "TM=sum(Actual_Total)\n",
        "TQ=sum(num)\n",
        "TI=len(prod)\n",
        "Save=TM-TP"
      ],
      "execution_count": 13,
      "outputs": []
    },
    {
      "cell_type": "code",
      "metadata": {
        "colab": {
          "base_uri": "https://localhost:8080/"
        },
        "id": "LsDVbRlBNXDT",
        "outputId": "c62a12fe-6f79-446d-8f6c-14c7082dff4b"
      },
      "source": [
        "USER=str(input(\"ENTER USER NAME : \"))\n",
        "USER_ID=str(input(\"ENTER USER ID : \"))\n",
        "sym=u\"\\u20B9\""
      ],
      "execution_count": 14,
      "outputs": [
        {
          "name": "stdout",
          "output_type": "stream",
          "text": [
            "ENTER USER NAME : lllllllllll\n",
            "ENTER USER ID : 55555555\n"
          ]
        }
      ]
    },
    {
      "cell_type": "code",
      "metadata": {
        "colab": {
          "base_uri": "https://localhost:8080/"
        },
        "id": "_in8nVPRNWjc",
        "outputId": "9c0daaa0-764d-482b-bd6c-133805198bdc"
      },
      "source": [
        "print(\"\\t\\t\\t\\t P_MART BULDANA \\n\\t\\t\\t\\tMAHARASHTRA ,INDIA \\n\\t\\t\\t\\t MOB:9157777774 \")\n",
        "print(\"  ****************************************************************************************** \")\n",
        "print(\"        BILL NO : \"+str(BILL_NO)+\"  \\t\\t\\t\\t USER NAME : \"+USER.upper())\n",
        "print(\"  CUSTOMER NAME : \"+NAME.upper()+\"\\t\\t\\t\\t USER ID   : \"+USER_ID.upper())\n",
        "print(\"      MOBILE NO : \"+MOBILE+\"\\t\\t\\t\\t DATE\\t   :\",DATE)\n",
        "print(\"\\t\\t\\t\\t\\t\\t\\t TIME\\t   :\",TIME)\n",
        "print(\"  ****************************************************************************************** \")\n",
        "print(\" \\t\\t\\t\\t PRODUCTS LIST\")\n",
        "print(\"_____________________________________________________________________________________________\")\n",
        "print(\"S NO  Product ID   Items Name \\t  Category \\tQuantity  MRP\"+\"( \"+sym+\")\"+\"  Discount\"+\"( \"+sym+\")\"+\"   Total\"+\"( \"+sym+\")\")\n",
        "print(\"_____________________________________________________________________________________________\")\n",
        "for i in range (length):\n",
        "    S_No=str(i+1)\n",
        "    Item=str(products[prod[i]][\"product_name\"])\n",
        "    quantity=str(num[i])\n",
        "    print(\" \"+S_No+\"\\t\"+Id[i]+\"\\t     \"+Item.upper()+\"\\t   \"+Type_of_product[i]+\"\\t   \"+str(quantity)+\"\\t   \"+str(Price[i])+\"\\t       \"+str(discount[i])+\"\\t   \"+str(round(pTotal[i],2)))\n",
        "print(\"_____________________________________________________________________________________________\")\n",
        "print(\"                                                \\t\\t  GRAND TOTAL : \"+sym+\" \"+str(round(TP,2)))\n",
        "print()\n",
        "print(\"_____________________________________________________________________________________________\")\n",
        "print()\n",
        "print(\"        TOTAL ITEMS    : \"+str(TI)+\"  \\t\\t\\t\\t ACTUAL TOTAL MRP     : \"+sym+\" \"+str(round(TM,2)))\n",
        "print(\"        TOTAL QUANTITY : \"+str(TQ)+\"  \\t\\t\\t\\t DISCOUNT PRICE       : \"+sym+\" \"+str(round(TD,2)))\n",
        "print()\n",
        "print(\"\\t\\t\\t\\t!!!  CONGRATS  !!!\")\n",
        "print(\" \\t\\t\\t    YOU HAVE SAVED \"+sym+\" \"+str(round(Save,2))+\" RUPEES    \")\n",
        "print(\"_____________________________________________________________________________________________\")\n",
        "print(\" \\t   ------------  GOODS ONCE SOLD CANNOT BE TAKEN BACK   -------------   \")\n",
        "print(\"  \\t                    THANK YOU !   VISIT AGAIN !                        \")"
      ],
      "execution_count": 15,
      "outputs": [
        {
          "output_type": "stream",
          "name": "stdout",
          "text": [
            "\t\t\t\t P_MART BULDANA \n",
            "\t\t\t\tMAHARASHTRA ,INDIA \n",
            "\t\t\t\t MOB:9157777774 \n",
            "  ****************************************************************************************** \n",
            "        BILL NO : 96685  \t\t\t\t USER NAME : LLLLLLLLLLL\n",
            "  CUSTOMER NAME : ASHISH\t\t\t\t USER ID   : 55555555\n",
            "      MOBILE NO : 666666\t\t\t\t DATE\t   : Sep 7 2021\n",
            "\t\t\t\t\t\t\t TIME\t   : 09:59:16\n",
            "  ****************************************************************************************** \n",
            " \t\t\t\t PRODUCTS LIST\n",
            "_____________________________________________________________________________________________\n",
            "S NO  Product ID   Items Name \t  Category \tQuantity  MRP( ₹)  Discount( ₹)   Total( ₹)\n",
            "_____________________________________________________________________________________________\n",
            " 1\t10101\t     CHOCOLATE\t   Sweets\t   25\t   200\t       10\t   4750\n",
            "_____________________________________________________________________________________________\n",
            "                                                \t\t  GRAND TOTAL : ₹ 4750\n",
            "\n",
            "_____________________________________________________________________________________________\n",
            "\n",
            "        TOTAL ITEMS    : 1  \t\t\t\t ACTUAL TOTAL MRP     : ₹ 5000\n",
            "        TOTAL QUANTITY : 25  \t\t\t\t DISCOUNT PRICE       : ₹ 10\n",
            "\n",
            "\t\t\t\t!!!  CONGRATS  !!!\n",
            " \t\t\t    YOU HAVE SAVED ₹ 250 RUPEES    \n",
            "_____________________________________________________________________________________________\n",
            " \t   ------------  GOODS ONCE SOLD CANNOT BE TAKEN BACK   -------------   \n",
            "  \t                    THANK YOU !   VISIT AGAIN !                        \n"
          ]
        }
      ]
    },
    {
      "cell_type": "code",
      "metadata": {
        "id": "9rAKJlbdT9np",
        "colab": {
          "base_uri": "https://localhost:8080/"
        },
        "outputId": "cf2347c9-473f-4b49-f7ec-dbb11145949d"
      },
      "source": [
        "products"
      ],
      "execution_count": 16,
      "outputs": [
        {
          "output_type": "execute_result",
          "data": {
            "text/plain": [
              "{'10101': {'Exp_date': 'May_2022',\n",
              "  'Net_weight': '200g',\n",
              "  'Price': 200,\n",
              "  'Type_of_product': 'Sweets',\n",
              "  'discount': 10,\n",
              "  'product_name': 'Chocolate',\n",
              "  'quantity': 75},\n",
              " '10102': {'Exp_date': 'Jun_2022',\n",
              "  'Net_weight': '600g',\n",
              "  'Price': 35,\n",
              "  'Type_of_product': 'drink',\n",
              "  'discount': 1,\n",
              "  'product_name': 'Frooty',\n",
              "  'quantity': 43}}"
            ]
          },
          "metadata": {},
          "execution_count": 16
        }
      ]
    },
    {
      "cell_type": "markdown",
      "metadata": {
        "id": "cx6ECclAuIV7"
      },
      "source": [
        "**Adding new inventory**"
      ]
    },
    {
      "cell_type": "code",
      "metadata": {
        "colab": {
          "base_uri": "https://localhost:8080/"
        },
        "id": "u7PtXCRVuHBK",
        "outputId": "4ea510af-c638-4fbe-8af6-9c770872ef3a"
      },
      "source": [
        "p_id=input(\"Enter Id of Product:- \")\n",
        "p_name=input(\"Enter name of the product:- \")\n",
        "ptype=input(\"Enter the type of the product:- \")\n",
        "rs=int(input(\"Enter the price of the product:- \"))\n",
        "quantity=int(input(\"Enter the quantity of the product:- \"))\n",
        "exp=input(\"Enter the expiry date of the product:- \")\n",
        "wt=input(\"Enter the weight of the product:- \")\n",
        "ds=int(input(\"Enter discount amount for \"+ p_name +\":- \"))\n",
        "\n",
        "#updating the original product record dictionary with a new entry having product id as prod_id\n",
        "\n",
        "products[p_id]={'product_name':p_name,'Type_of_product':ptype,'Price':rs,'quantity':quantity,'Exp_date':exp,\"Net_weight\":wt,\"discount\":ds}"
      ],
      "execution_count": 21,
      "outputs": [
        {
          "name": "stdout",
          "output_type": "stream",
          "text": [
            "Enter Id of Product:- 10103\n",
            "Enter name of the product:- Zandu Balm\n",
            "Enter the type of the product:- Medicine\n",
            "Enter the price of the product:- 42\n",
            "Enter the quantity of the product:- 102\n",
            "Enter the expiry date of the product:- Dec_2021\n",
            "Enter the weight of the product:- 32g\n",
            "Enter discount amount for Zandu Balm:- 1\n"
          ]
        }
      ]
    },
    {
      "cell_type": "code",
      "metadata": {
        "id": "sTO6cP0ub833"
      },
      "source": [
        "updt=json.dumps(products)"
      ],
      "execution_count": 22,
      "outputs": []
    },
    {
      "cell_type": "code",
      "metadata": {
        "colab": {
          "base_uri": "https://localhost:8080/",
          "height": 69
        },
        "id": "GFT3NgzqsZb6",
        "outputId": "2861d8a3-5b24-4c6e-efa5-290dcdd3926c"
      },
      "source": [
        "updt"
      ],
      "execution_count": 24,
      "outputs": [
        {
          "output_type": "execute_result",
          "data": {
            "application/vnd.google.colaboratory.intrinsic+json": {
              "type": "string"
            },
            "text/plain": [
              "'{\"10101\": {\"product_name\": \"Chocolate\", \"Type_of_product\": \"Sweets\", \"Price\": 200, \"quantity\": 75, \"Exp_date\": \"May_2022\", \"Net_weight\": \"200g\", \"discount\": 10}, \"10102\": {\"product_name\": \"Frooty\", \"Type_of_product\": \"drink\", \"Price\": 35, \"quantity\": 43, \"Exp_date\": \"Jun_2022\", \"Net_weight\": \"600g\", \"discount\": 1}, \"10103\": {\"product_name\": \"Zandu Balm\", \"Type_of_product\": \"Medicine\", \"Price\": 42, \"quantity\": 102, \"Exp_date\": \"Dec_2021\", \"Net_weight\": \"32g\", \"discount\": 1}}'"
            ]
          },
          "metadata": {},
          "execution_count": 24
        }
      ]
    },
    {
      "cell_type": "code",
      "metadata": {
        "id": "hfJyIcLTsZb7"
      },
      "source": [
        "updated=open(\"updatedProducts.json\",\"w\")\n",
        "updated.write(updt)\n",
        "updated.close()"
      ],
      "execution_count": 25,
      "outputs": []
    },
    {
      "cell_type": "code",
      "metadata": {
        "id": "mNU7-S7psZb7"
      },
      "source": [
        ""
      ],
      "execution_count": null,
      "outputs": []
    }
  ]
}